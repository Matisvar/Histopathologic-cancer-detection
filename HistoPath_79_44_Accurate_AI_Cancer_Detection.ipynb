{
  "metadata": {
    "kernelspec": {
      "language": "python",
      "display_name": "Python 3",
      "name": "python3"
    },
    "language_info": {
      "pygments_lexer": "ipython3",
      "nbconvert_exporter": "python",
      "version": "3.6.4",
      "file_extension": ".py",
      "codemirror_mode": {
        "name": "ipython",
        "version": 3
      },
      "name": "python",
      "mimetype": "text/x-python"
    },
    "colab": {
      "provenance": []
    }
  },
  "nbformat_minor": 0,
  "nbformat": 4,
  "cells": [
    {
      "cell_type": "markdown",
      "source": [
        "# <font color='blue'>**Histopathologic Cancer Detection**</font>"
      ],
      "metadata": {
        "id": "5A9BcU2FupvH"
      }
    },
    {
      "source": [
        "\n",
        "# IMPORTANT: RUN THIS CELL IN ORDER TO IMPORT YOUR KAGGLE DATA SOURCES\n",
        "# TO THE CORRECT LOCATION (/kaggle/input) IN YOUR NOTEBOOK,\n",
        "# THEN FEEL FREE TO DELETE THIS CELL.\n",
        "# NOTE: THIS NOTEBOOK ENVIRONMENT DIFFERS FROM KAGGLE'S PYTHON\n",
        "# ENVIRONMENT SO THERE MAY BE MISSING LIBRARIES USED BY YOUR\n",
        "# NOTEBOOK.\n",
        "\n",
        "import os\n",
        "import sys\n",
        "from tempfile import NamedTemporaryFile\n",
        "from urllib.request import urlopen\n",
        "from urllib.parse import unquote, urlparse\n",
        "from urllib.error import HTTPError\n",
        "from zipfile import ZipFile\n",
        "import tarfile\n",
        "import shutil\n",
        "\n",
        "CHUNK_SIZE = 40960\n",
        "DATA_SOURCE_MAPPING = 'histopathologic-cancer-detection:https%3A%2F%2Fstorage.googleapis.com%2Fkaggle-competitions-data%2Fkaggle-v2%2F11848%2F862157%2Fbundle%2Farchive.zip%3FX-Goog-Algorithm%3DGOOG4-RSA-SHA256%26X-Goog-Credential%3Dgcp-kaggle-com%2540kaggle-161607.iam.gserviceaccount.com%252F20240428%252Fauto%252Fstorage%252Fgoog4_request%26X-Goog-Date%3D20240428T080259Z%26X-Goog-Expires%3D259200%26X-Goog-SignedHeaders%3Dhost%26X-Goog-Signature%3D47d23f59ecb85b2cc2d1e3008e09aa59663595c5e0c7aaedd05e8f35ec28d259add52453597a723e1ee382a7077c781893a25d4d0e5c195249be9ce6b9e5ef726aecbac4bba9db95d8a4eb9c4b138a13ab27648abda811ba841134744adb3504725927af1f39da1d5f66453bcd873612863545be8ca35c60ac9f8130f9a2d7e79175744694b559a9c3b7dbc264e1e0d5048fcf4e06be8e96102d869c49c08f35e295c7846f7a22b90a5b816a27927dd292769e57e576fe77b78635298363d0b252ea253e1a8d9478a740bd7e7e972b92a27053f689c35b4364e65e2b28d628a9c2fb47018d2c7de0a2eaa148eb908f9a99b9a3b64904aaa2614b12ae43bd3961'\n",
        "\n",
        "KAGGLE_INPUT_PATH='/kaggle/input'\n",
        "KAGGLE_WORKING_PATH='/kaggle/working'\n",
        "KAGGLE_SYMLINK='kaggle'\n",
        "\n",
        "!umount /kaggle/input/ 2> /dev/null\n",
        "shutil.rmtree('/kaggle/input', ignore_errors=True)\n",
        "os.makedirs(KAGGLE_INPUT_PATH, 0o777, exist_ok=True)\n",
        "os.makedirs(KAGGLE_WORKING_PATH, 0o777, exist_ok=True)\n",
        "\n",
        "try:\n",
        "  os.symlink(KAGGLE_INPUT_PATH, os.path.join(\"..\", 'input'), target_is_directory=True)\n",
        "except FileExistsError:\n",
        "  pass\n",
        "try:\n",
        "  os.symlink(KAGGLE_WORKING_PATH, os.path.join(\"..\", 'working'), target_is_directory=True)\n",
        "except FileExistsError:\n",
        "  pass\n",
        "\n",
        "for data_source_mapping in DATA_SOURCE_MAPPING.split(','):\n",
        "    directory, download_url_encoded = data_source_mapping.split(':')\n",
        "    download_url = unquote(download_url_encoded)\n",
        "    filename = urlparse(download_url).path\n",
        "    destination_path = os.path.join(KAGGLE_INPUT_PATH, directory)\n",
        "    try:\n",
        "        with urlopen(download_url) as fileres, NamedTemporaryFile() as tfile:\n",
        "            total_length = fileres.headers['content-length']\n",
        "            print(f'Downloading {directory}, {total_length} bytes compressed')\n",
        "            dl = 0\n",
        "            data = fileres.read(CHUNK_SIZE)\n",
        "            while len(data) > 0:\n",
        "                dl += len(data)\n",
        "                tfile.write(data)\n",
        "                done = int(50 * dl / int(total_length))\n",
        "                sys.stdout.write(f\"\\r[{'=' * done}{' ' * (50-done)}] {dl} bytes downloaded\")\n",
        "                sys.stdout.flush()\n",
        "                data = fileres.read(CHUNK_SIZE)\n",
        "            if filename.endswith('.zip'):\n",
        "              with ZipFile(tfile) as zfile:\n",
        "                zfile.extractall(destination_path)\n",
        "            else:\n",
        "              with tarfile.open(tfile.name) as tarfile:\n",
        "                tarfile.extractall(destination_path)\n",
        "            print(f'\\nDownloaded and uncompressed: {directory}')\n",
        "    except HTTPError as e:\n",
        "        print(f'Failed to load (likely expired) {download_url} to path {destination_path}')\n",
        "        continue\n",
        "    except OSError as e:\n",
        "        print(f'Failed to load {download_url} to path {destination_path}')\n",
        "        continue\n",
        "\n",
        "print('Data source import complete.')\n"
      ],
      "metadata": {
        "id": "g88Oz1W1upvE"
      },
      "cell_type": "code",
      "outputs": [],
      "execution_count": null
    },
    {
      "cell_type": "markdown",
      "source": [
        "<font color='blue'>**Introduction:**</font>\n",
        "\n",
        "Histopathologic cancer detection is a crucial task that involves identifying metastatic cancer in small image patches taken from larger digital pathology scans. The dataset used in this project consists of labeled images, where each label indicates the presence (1) or absence (0) of tumor tissue in the corresponding image."
      ],
      "metadata": {
        "id": "FxvHkkscupvJ"
      }
    },
    {
      "cell_type": "markdown",
      "source": [
        "# <font color='blue'>**1. Data Exploration and Understanding**</font>"
      ],
      "metadata": {
        "id": "i-lgizV6upvJ"
      }
    },
    {
      "cell_type": "markdown",
      "source": [
        "**In this phase, I delved into the dataset to understand the nature of the images and their labels. I visualized samples of images with and without tumor tissues, explored the distribution of labels, and checked the quality of the images in terms of resolution and contrast.**"
      ],
      "metadata": {
        "id": "XL0z_XyEupvJ"
      }
    },
    {
      "cell_type": "markdown",
      "source": [
        "## <font color='green'>1.1 Image Visualization</font>"
      ],
      "metadata": {
        "id": "rmte_nHpupvK"
      }
    },
    {
      "cell_type": "code",
      "source": [
        "# Required Libraries\n",
        "import numpy as np\n",
        "import pandas as pd\n",
        "import matplotlib.pyplot as plt\n",
        "import cv2\n",
        "import os\n",
        "\n",
        "# Load train labels\n",
        "train_labels = pd.read_csv('/kaggle/input/histopathologic-cancer-detection/train_labels.csv')\n",
        "\n",
        "# Display a subset of images with and without tumor tissue\n",
        "def display_images(samples, title):\n",
        "    fig, axes = plt.subplots(1, len(samples), figsize=(20, 5))\n",
        "    for img_path, ax in zip(samples, axes):\n",
        "        img = cv2.imread(img_path)\n",
        "        img = cv2.cvtColor(img, cv2.COLOR_BGR2RGB)\n",
        "        ax.imshow(img)\n",
        "        ax.axis('off')\n",
        "    plt.suptitle(title, fontsize=16)\n",
        "    plt.show()\n",
        "\n",
        "# Positive samples (with tumor)\n",
        "positive_samples = train_labels[train_labels['label'] == 1]['id'].head(5).apply(lambda x: f'../input/histopathologic-cancer-detection/train/{x}.tif').tolist()\n",
        "display_images(positive_samples, \"Images with Tumor Tissue\")\n",
        "\n",
        "# Negative samples (without tumor)\n",
        "negative_samples = train_labels[train_labels['label'] == 0]['id'].head(5).apply(lambda x: f'../input/histopathologic-cancer-detection/train/{x}.tif').tolist()\n",
        "display_images(negative_samples, \"Images without Tumor Tissue\")"
      ],
      "metadata": {
        "execution": {
          "iopub.status.busy": "2023-08-13T10:11:54.196242Z",
          "iopub.execute_input": "2023-08-13T10:11:54.196814Z",
          "iopub.status.idle": "2023-08-13T10:11:55.605497Z",
          "shell.execute_reply.started": "2023-08-13T10:11:54.196752Z",
          "shell.execute_reply": "2023-08-13T10:11:55.604366Z"
        },
        "trusted": true,
        "id": "5cUgFWkIupvK"
      },
      "execution_count": null,
      "outputs": []
    },
    {
      "cell_type": "markdown",
      "source": [
        "## <font color='green'>1.2 Label Distribution</font>"
      ],
      "metadata": {
        "id": "lbtfxBOxupvK"
      }
    },
    {
      "cell_type": "code",
      "source": [
        "# Plotting the distribution of labels\n",
        "plt.figure(figsize=(8, 5))\n",
        "train_labels['label'].value_counts().plot(kind='bar', color=['skyblue', 'salmon'])\n",
        "plt.title('Distribution of Tumor (1) and No Tumor (0) Labels')\n",
        "plt.xlabel('Label')\n",
        "plt.ylabel('Count')\n",
        "plt.xticks(rotation=0)\n",
        "plt.show()"
      ],
      "metadata": {
        "execution": {
          "iopub.status.busy": "2023-08-13T10:11:55.607777Z",
          "iopub.execute_input": "2023-08-13T10:11:55.608107Z",
          "iopub.status.idle": "2023-08-13T10:11:55.882976Z",
          "shell.execute_reply.started": "2023-08-13T10:11:55.608077Z",
          "shell.execute_reply": "2023-08-13T10:11:55.881749Z"
        },
        "trusted": true,
        "id": "_3Zlhh_BupvL"
      },
      "execution_count": null,
      "outputs": []
    },
    {
      "cell_type": "markdown",
      "source": [
        "## <font color='green'>1.3 Image Quality Check</font>"
      ],
      "metadata": {
        "id": "tVH74wjvupvL"
      }
    },
    {
      "cell_type": "code",
      "source": [
        "# Checking the resolution and contrast of a random subset of images\n",
        "image_paths = train_labels['id'].sample(5).apply(lambda x: f'../input/histopathologic-cancer-detection/train/{x}.tif').tolist()\n",
        "\n",
        "for img_path in image_paths:\n",
        "    img = cv2.imread(img_path)\n",
        "    img_rgb = cv2.cvtColor(img, cv2.COLOR_BGR2RGB)\n",
        "\n",
        "    # Displaying image details\n",
        "    print(f\"Image: {img_path.split('/')[-1]}\")\n",
        "    print(f\"Resolution: {img.shape[0]}x{img.shape[1]}\")\n",
        "    print(f\"Contrast (max-min pixel values): {np.max(img_rgb) - np.min(img_rgb)}\\n\")"
      ],
      "metadata": {
        "execution": {
          "iopub.status.busy": "2023-08-13T10:11:55.884542Z",
          "iopub.execute_input": "2023-08-13T10:11:55.884866Z",
          "iopub.status.idle": "2023-08-13T10:11:55.97574Z",
          "shell.execute_reply.started": "2023-08-13T10:11:55.884838Z",
          "shell.execute_reply": "2023-08-13T10:11:55.974474Z"
        },
        "trusted": true,
        "id": "vLGLt4oWupvL"
      },
      "execution_count": null,
      "outputs": []
    },
    {
      "cell_type": "markdown",
      "source": [
        "# <font color='blue'>2. Data Preprocessing</font>"
      ],
      "metadata": {
        "id": "tVi4A851upvL"
      }
    },
    {
      "cell_type": "markdown",
      "source": [
        "**The images were resized to a consistent shape of 96x96 pixels. I normalized the pixel values to fall between 0 and 1. The dataset was split into training, validation, and test sets. Additionally, data augmentation techniques were applied to increase the diversity of the training data and prevent overfitting.**"
      ],
      "metadata": {
        "id": "gd1zoGglupvL"
      }
    },
    {
      "cell_type": "markdown",
      "source": [
        "## <font color='green'>2.1 Image Resizing</font>"
      ],
      "metadata": {
        "id": "5vDLxdQmupvM"
      }
    },
    {
      "cell_type": "code",
      "source": [
        "from tensorflow.keras.preprocessing.image import load_img, img_to_array\n",
        "\n",
        "# Define the desired dimensions\n",
        "IMG_WIDTH, IMG_HEIGHT = 96, 96\n",
        "\n",
        "def resize_image(img_path, target_width=IMG_WIDTH, target_height=IMG_HEIGHT):\n",
        "    img = load_img(img_path, target_size=(target_width, target_height))\n",
        "    return img_to_array(img)\n",
        "\n",
        "# Example usage\n",
        "sample_path = train_labels['id'].iloc[0]\n",
        "resized_img = resize_image(f'../input/histopathologic-cancer-detection/train/{sample_path}.tif')\n",
        "print(f\"Resized Image Shape: {resized_img.shape}\")"
      ],
      "metadata": {
        "execution": {
          "iopub.status.busy": "2023-08-13T10:11:55.977236Z",
          "iopub.execute_input": "2023-08-13T10:11:55.978311Z",
          "iopub.status.idle": "2023-08-13T10:11:55.988959Z",
          "shell.execute_reply.started": "2023-08-13T10:11:55.978276Z",
          "shell.execute_reply": "2023-08-13T10:11:55.987609Z"
        },
        "trusted": true,
        "id": "PKpj6X42upvM"
      },
      "execution_count": null,
      "outputs": []
    },
    {
      "cell_type": "markdown",
      "source": [
        "## <font color='green'>2.2 Normalization</font>"
      ],
      "metadata": {
        "id": "gn68u1zjupvM"
      }
    },
    {
      "cell_type": "code",
      "source": [
        "def normalize_image(img):\n",
        "    return img / 255.0\n",
        "\n",
        "# Example usage\n",
        "normalized_img = normalize_image(resized_img)\n",
        "print(f\"Pixel Range after Normalization: {np.min(normalized_img)} - {np.max(normalized_img)}\")"
      ],
      "metadata": {
        "execution": {
          "iopub.status.busy": "2023-08-13T10:11:55.992747Z",
          "iopub.execute_input": "2023-08-13T10:11:55.993928Z",
          "iopub.status.idle": "2023-08-13T10:11:56.005577Z",
          "shell.execute_reply.started": "2023-08-13T10:11:55.993892Z",
          "shell.execute_reply": "2023-08-13T10:11:56.00428Z"
        },
        "trusted": true,
        "id": "4d7ykHpLupvM"
      },
      "execution_count": null,
      "outputs": []
    },
    {
      "cell_type": "markdown",
      "source": [
        "## <font color='green'>2.3 Data Splitting</font>"
      ],
      "metadata": {
        "id": "2zpHuhJOupvM"
      }
    },
    {
      "cell_type": "code",
      "source": [
        "from sklearn.model_selection import train_test_split\n",
        "\n",
        "# Splitting the data into training, validation, and test sets (80%, 10%, 10%)\n",
        "train_data, temp_data, train_labels, temp_labels = train_test_split(train_labels['id'].values, train_labels['label'].values, test_size=0.2, random_state=42)\n",
        "val_data, test_data, val_labels, test_labels = train_test_split(temp_data, temp_labels, test_size=0.5, random_state=42)"
      ],
      "metadata": {
        "execution": {
          "iopub.status.busy": "2023-08-13T10:11:56.007539Z",
          "iopub.execute_input": "2023-08-13T10:11:56.008364Z",
          "iopub.status.idle": "2023-08-13T10:11:56.051011Z",
          "shell.execute_reply.started": "2023-08-13T10:11:56.008329Z",
          "shell.execute_reply": "2023-08-13T10:11:56.049859Z"
        },
        "trusted": true,
        "id": "baP1dMZWupvM"
      },
      "execution_count": null,
      "outputs": []
    },
    {
      "cell_type": "markdown",
      "source": [
        "## <font color='green'>2.4 Data Augmentation</font>"
      ],
      "metadata": {
        "id": "PRRKuYTbupvM"
      }
    },
    {
      "cell_type": "code",
      "source": [
        "from tensorflow.keras.preprocessing.image import ImageDataGenerator, array_to_img, load_img, img_to_array\n",
        "import matplotlib.pyplot as plt\n",
        "\n",
        "# Data augmentation configuration\n",
        "datagen = ImageDataGenerator(\n",
        "    rotation_range=40,\n",
        "    width_shift_range=0.2,\n",
        "    height_shift_range=0.2,\n",
        "    shear_range=0.2,\n",
        "    zoom_range=0.2,\n",
        "    horizontal_flip=True,\n",
        "    fill_mode='nearest'\n",
        ")\n",
        "\n",
        "# Example: Display some augmented images\n",
        "img = load_img(f'../input/histopathologic-cancer-detection/train/{train_data[0]}.tif')\n",
        "x = img_to_array(img)\n",
        "x = x.reshape((1,) + x.shape)\n",
        "\n",
        "fig, axes = plt.subplots(1, 5, figsize=(20, 5))\n",
        "for i, batch in enumerate(datagen.flow(x, batch_size=1)):\n",
        "    axes[i].imshow(array_to_img(batch[0]))\n",
        "    axes[i].axis('off')\n",
        "    if i == 4: # Stop after displaying 5 images\n",
        "        break\n",
        "plt.show()"
      ],
      "metadata": {
        "execution": {
          "iopub.status.busy": "2023-08-13T10:11:56.052452Z",
          "iopub.execute_input": "2023-08-13T10:11:56.052811Z",
          "iopub.status.idle": "2023-08-13T10:11:56.659127Z",
          "shell.execute_reply.started": "2023-08-13T10:11:56.052782Z",
          "shell.execute_reply": "2023-08-13T10:11:56.657991Z"
        },
        "trusted": true,
        "id": "taow7HwQupvM"
      },
      "execution_count": null,
      "outputs": []
    },
    {
      "cell_type": "markdown",
      "source": [
        "# <font color='blue'>3. Model Development</font>"
      ],
      "metadata": {
        "id": "O3UPgd4AupvM"
      }
    },
    {
      "cell_type": "markdown",
      "source": [
        "**I designed a convolutional neural network (CNN) with multiple layers to detect the presence of tumor tissue in the histopathologic images. The model was compiled using the Adam optimizer and binary cross-entropy loss, suitable for a binary classification task.**"
      ],
      "metadata": {
        "id": "WYwOMEcfupvM"
      }
    },
    {
      "cell_type": "markdown",
      "source": [
        "## <font color='green'>3.1 Model Architecture</font>"
      ],
      "metadata": {
        "id": "ZVp1Aa5uupvN"
      }
    },
    {
      "cell_type": "code",
      "source": [
        "from tensorflow.keras.models import Sequential\n",
        "from tensorflow.keras.layers import Conv2D, MaxPooling2D, Flatten, Dense, Dropout\n",
        "\n",
        "model = Sequential()\n",
        "\n",
        "# Convolutional layers\n",
        "model.add(Conv2D(32, (3, 3), activation='relu', input_shape=(IMG_WIDTH, IMG_HEIGHT, 3)))\n",
        "model.add(MaxPooling2D(pool_size=(2, 2)))\n",
        "\n",
        "model.add(Conv2D(64, (3, 3), activation='relu'))\n",
        "model.add(MaxPooling2D(pool_size=(2, 2)))\n",
        "\n",
        "model.add(Conv2D(128, (3, 3), activation='relu'))\n",
        "model.add(MaxPooling2D(pool_size=(2, 2)))\n",
        "\n",
        "# Fully connected layers\n",
        "model.add(Flatten())\n",
        "model.add(Dense(512, activation='relu'))\n",
        "model.add(Dropout(0.5))\n",
        "model.add(Dense(1, activation='sigmoid'))  # Binary classification\n",
        "\n",
        "model.summary()"
      ],
      "metadata": {
        "execution": {
          "iopub.status.busy": "2023-08-13T10:11:56.660535Z",
          "iopub.execute_input": "2023-08-13T10:11:56.661617Z",
          "iopub.status.idle": "2023-08-13T10:11:56.858776Z",
          "shell.execute_reply.started": "2023-08-13T10:11:56.661584Z",
          "shell.execute_reply": "2023-08-13T10:11:56.85734Z"
        },
        "trusted": true,
        "id": "9qn_kCSZupvN"
      },
      "execution_count": null,
      "outputs": []
    },
    {
      "cell_type": "markdown",
      "source": [
        "## <font color='green'>3.2 Model Compilation</font>"
      ],
      "metadata": {
        "id": "fqS0hh38upvN"
      }
    },
    {
      "cell_type": "code",
      "source": [
        "from tensorflow.keras.optimizers import Adam\n",
        "\n",
        "optimizer = Adam(learning_rate=0.0001)\n",
        "model.compile(optimizer=optimizer, loss='binary_crossentropy', metrics=['accuracy'])"
      ],
      "metadata": {
        "execution": {
          "iopub.status.busy": "2023-08-13T10:11:56.860976Z",
          "iopub.execute_input": "2023-08-13T10:11:56.861358Z",
          "iopub.status.idle": "2023-08-13T10:11:56.880595Z",
          "shell.execute_reply.started": "2023-08-13T10:11:56.861327Z",
          "shell.execute_reply": "2023-08-13T10:11:56.879131Z"
        },
        "trusted": true,
        "id": "SPsabE1supvN"
      },
      "execution_count": null,
      "outputs": []
    },
    {
      "cell_type": "markdown",
      "source": [
        "## <font color='green'>3.3 Model Training</font>"
      ],
      "metadata": {
        "id": "LE4qXGBxupvN"
      }
    },
    {
      "cell_type": "code",
      "source": [
        "train_labels_df = pd.read_csv('../input/histopathologic-cancer-detection/train_labels.csv')\n",
        "train_labels_df['label'] = train_labels_df['label'].astype(str)  # Convert label column to string"
      ],
      "metadata": {
        "execution": {
          "iopub.status.busy": "2023-08-13T12:19:15.835472Z",
          "iopub.execute_input": "2023-08-13T12:19:15.83639Z",
          "iopub.status.idle": "2023-08-13T12:19:16.305267Z",
          "shell.execute_reply.started": "2023-08-13T12:19:15.836355Z",
          "shell.execute_reply": "2023-08-13T12:19:16.30435Z"
        },
        "trusted": true,
        "id": "5yh7n71EupvN"
      },
      "execution_count": null,
      "outputs": []
    },
    {
      "cell_type": "code",
      "source": [
        "# Add the .tif extension to the 'id' column for correct file referencing\n",
        "train_labels_df['id'] = train_labels_df['id'].apply(lambda x: f\"{x}.tif\")\n",
        "\n",
        "# Preparing data generators\n",
        "train_datagen = ImageDataGenerator(rescale=1./255, validation_split=0.2)  # Normalize images\n",
        "\n",
        "batch_size = 32\n",
        "train_steps = 8000 // batch_size  # 8000 images for training\n",
        "val_steps = 2000 // batch_size    # 2000 images for validation\n",
        "\n",
        "train_gen = train_datagen.flow_from_dataframe(\n",
        "    dataframe=train_labels_df.head(10000),\n",
        "    directory='../input/histopathologic-cancer-detection/train/',\n",
        "    x_col='id',\n",
        "    y_col='label',\n",
        "    target_size=(IMG_WIDTH, IMG_HEIGHT),\n",
        "    class_mode='binary',\n",
        "    batch_size=batch_size,\n",
        "    subset='training'\n",
        ")\n",
        "\n",
        "val_gen = train_datagen.flow_from_dataframe(\n",
        "    dataframe=train_labels_df.head(10000),\n",
        "    directory='../input/histopathologic-cancer-detection/train/',\n",
        "    x_col='id',\n",
        "    y_col='label',\n",
        "    target_size=(IMG_WIDTH, IMG_HEIGHT),\n",
        "    class_mode='binary',\n",
        "    batch_size=batch_size,\n",
        "    subset='validation'\n",
        ")\n",
        "\n",
        "# Training the model\n",
        "history = model.fit(\n",
        "    train_gen,\n",
        "    steps_per_epoch=train_steps,\n",
        "    validation_data=val_gen,\n",
        "    validation_steps=val_steps,\n",
        "    epochs=10\n",
        ")"
      ],
      "metadata": {
        "execution": {
          "iopub.status.busy": "2023-08-13T12:19:18.404686Z",
          "iopub.execute_input": "2023-08-13T12:19:18.405063Z",
          "iopub.status.idle": "2023-08-13T12:19:49.344482Z",
          "shell.execute_reply.started": "2023-08-13T12:19:18.405035Z",
          "shell.execute_reply": "2023-08-13T12:19:49.34294Z"
        },
        "trusted": true,
        "id": "Bbj64gP2upvN"
      },
      "execution_count": null,
      "outputs": []
    },
    {
      "cell_type": "markdown",
      "source": [
        "# <font color='blue'>4. Model Evaluation</font>"
      ],
      "metadata": {
        "id": "bYq3XeINupvN"
      }
    },
    {
      "cell_type": "markdown",
      "source": [
        "**The model's performance was evaluated using various metrics such as accuracy, precision, recall, F1 score, and ROC-AUC. I also checked for signs of overfitting by comparing the training and validation loss and accuracy. Error analysis was conducted by visualizing misclassified images.**"
      ],
      "metadata": {
        "id": "iyWVFDJlupvN"
      }
    },
    {
      "cell_type": "markdown",
      "source": [
        "## <font color='green'>4.1 Performance Metrics</font>"
      ],
      "metadata": {
        "id": "IfA-PbSeupvN"
      }
    },
    {
      "cell_type": "code",
      "source": [
        "from sklearn.metrics import accuracy_score, precision_score, recall_score, f1_score, roc_auc_score, roc_curve\n",
        "\n",
        "# Adjust the val_steps\n",
        "val_steps = np.ceil(len(val_gen.classes) / batch_size)\n",
        "\n",
        "# Predict classes\n",
        "val_predictions = model.predict(val_gen, steps=val_steps)\n",
        "val_pred_classes = (val_predictions > 0.5).astype(int).flatten()\n",
        "\n",
        "# True labels\n",
        "true_labels = val_gen.classes\n",
        "\n",
        "# Ensure the lengths match\n",
        "val_pred_classes = val_pred_classes[:len(true_labels)]\n",
        "\n",
        "# Calculate metrics\n",
        "accuracy = accuracy_score(true_labels, val_pred_classes)\n",
        "precision = precision_score(true_labels, val_pred_classes)\n",
        "recall = recall_score(true_labels, val_pred_classes)\n",
        "f1 = f1_score(true_labels, val_pred_classes)\n",
        "roc_auc = roc_auc_score(true_labels, val_predictions)\n",
        "\n",
        "print(f\"Accuracy: {accuracy:.4f}\")\n",
        "print(f\"Precision: {precision:.4f}\")\n",
        "print(f\"Recall: {recall:.4f}\")\n",
        "print(f\"F1 Score: {f1:.4f}\")\n",
        "print(f\"ROC-AUC: {roc_auc:.4f}\")"
      ],
      "metadata": {
        "execution": {
          "iopub.status.busy": "2023-08-13T10:42:36.461885Z",
          "iopub.execute_input": "2023-08-13T10:42:36.462297Z",
          "iopub.status.idle": "2023-08-13T10:42:46.84213Z",
          "shell.execute_reply.started": "2023-08-13T10:42:36.462267Z",
          "shell.execute_reply": "2023-08-13T10:42:46.840915Z"
        },
        "trusted": true,
        "id": "GgBmcokiupvN"
      },
      "execution_count": null,
      "outputs": []
    },
    {
      "cell_type": "markdown",
      "source": [
        "## <font color='green'>4.2 Overfitting Check</font>"
      ],
      "metadata": {
        "id": "rrvjAsRSupvN"
      }
    },
    {
      "cell_type": "code",
      "source": [
        "# Plotting training and validation loss\n",
        "plt.figure(figsize=(12, 4))\n",
        "\n",
        "plt.subplot(1, 2, 1)\n",
        "plt.plot(history.history['loss'], label='Training Loss')\n",
        "plt.plot(history.history['val_loss'], label='Validation Loss')\n",
        "plt.legend()\n",
        "plt.title('Training and Validation Loss')\n",
        "\n",
        "plt.subplot(1, 2, 2)\n",
        "plt.plot(history.history['accuracy'], label='Training Accuracy')\n",
        "plt.plot(history.history['val_accuracy'], label='Validation Accuracy')\n",
        "plt.legend()\n",
        "plt.title('Training and Validation Accuracy')\n",
        "\n",
        "plt.tight_layout()\n",
        "plt.show()"
      ],
      "metadata": {
        "execution": {
          "iopub.status.busy": "2023-08-13T10:42:59.240142Z",
          "iopub.execute_input": "2023-08-13T10:42:59.240626Z",
          "iopub.status.idle": "2023-08-13T10:42:59.898873Z",
          "shell.execute_reply.started": "2023-08-13T10:42:59.240588Z",
          "shell.execute_reply": "2023-08-13T10:42:59.897886Z"
        },
        "trusted": true,
        "id": "oo-JVmuBupvO"
      },
      "execution_count": null,
      "outputs": []
    },
    {
      "cell_type": "markdown",
      "source": [
        "## <font color='green'>4.3 Error Analysis</font>"
      ],
      "metadata": {
        "id": "5MUxoJ47upvO"
      }
    },
    {
      "cell_type": "code",
      "source": [
        "# Extracting misclassified image indices\n",
        "misclassified_idx = np.where(val_pred_classes != true_labels)[0]\n",
        "\n",
        "# Displaying a subset of misclassified images\n",
        "sample_misclassified = np.random.choice(misclassified_idx, 5)\n",
        "\n",
        "plt.figure(figsize=(20, 5))\n",
        "for i, idx in enumerate(sample_misclassified):\n",
        "    img = load_img(val_gen.filepaths[idx])\n",
        "    plt.subplot(1, 5, i+1)\n",
        "    plt.imshow(img)\n",
        "    plt.title(f\"True: {true_labels[idx]}, Pred: {val_pred_classes[idx]}\")\n",
        "    plt.axis('off')\n",
        "plt.suptitle(\"Misclassified Images\", fontsize=16)\n",
        "plt.show()"
      ],
      "metadata": {
        "execution": {
          "iopub.status.busy": "2023-08-13T10:43:35.859077Z",
          "iopub.execute_input": "2023-08-13T10:43:35.859525Z",
          "iopub.status.idle": "2023-08-13T10:43:36.716424Z",
          "shell.execute_reply.started": "2023-08-13T10:43:35.859491Z",
          "shell.execute_reply": "2023-08-13T10:43:36.715275Z"
        },
        "trusted": true,
        "id": "h8vtipzVupvO"
      },
      "execution_count": null,
      "outputs": []
    },
    {
      "cell_type": "markdown",
      "source": [
        "# <font color='blue'>5. Fine-tuning and Optimization</font>"
      ],
      "metadata": {
        "id": "kuyJjA1bupvO"
      }
    },
    {
      "cell_type": "markdown",
      "source": [
        "**Hyperparameter tuning was performed to find the optimal configuration for the model. I also explored transfer learning by leveraging the VGG16 model pre-trained on ImageNet. Regularization techniques were applied to prevent overfitting.**"
      ],
      "metadata": {
        "id": "R_iT53AiupvT"
      }
    },
    {
      "cell_type": "markdown",
      "source": [
        "## <font color='green'>5.1 Hyperparameter Tuning</font>"
      ],
      "metadata": {
        "id": "kJLLkIo-upvT"
      }
    },
    {
      "cell_type": "code",
      "source": [
        "!pip install keras-tuner\n",
        "\n",
        "from kerastuner import RandomSearch\n",
        "from kerastuner.engine.hyperparameters import HyperParameters"
      ],
      "metadata": {
        "execution": {
          "iopub.status.busy": "2023-08-13T10:44:46.56503Z",
          "iopub.execute_input": "2023-08-13T10:44:46.566138Z",
          "iopub.status.idle": "2023-08-13T10:45:01.440367Z",
          "shell.execute_reply.started": "2023-08-13T10:44:46.5661Z",
          "shell.execute_reply": "2023-08-13T10:45:01.439012Z"
        },
        "trusted": true,
        "id": "jMgNUCMJupvT"
      },
      "execution_count": null,
      "outputs": []
    },
    {
      "cell_type": "code",
      "source": [
        "def build_model(hp):\n",
        "    model = Sequential()\n",
        "\n",
        "    # Convolutional layers\n",
        "    model.add(Conv2D(hp.Int('input_units', min_value=32, max_value=64, step=32), (3, 3), activation='relu', input_shape=(IMG_WIDTH, IMG_HEIGHT, 3)))\n",
        "    model.add(MaxPooling2D(pool_size=(2, 2)))\n",
        "\n",
        "    for i in range(hp.Int('n_layers', 1, 3)):  # adding between 1 and 3 convolutional layers\n",
        "        model.add(Conv2D(hp.Int(f'conv_{i}_units', min_value=32, max_value=64, step=32), (3, 3), activation='relu'))\n",
        "        model.add(MaxPooling2D(pool_size=(2, 2)))\n",
        "\n",
        "    # Fully connected layers\n",
        "    model.add(Flatten())\n",
        "    model.add(Dense(256, activation='relu'))\n",
        "    model.add(Dropout(0.5))\n",
        "    model.add(Dense(1, activation='sigmoid'))  # Binary classification\n",
        "\n",
        "    optimizer = Adam(learning_rate=hp.Choice('learning_rate', [1e-3, 1e-4]))\n",
        "    model.compile(optimizer=optimizer, loss='binary_crossentropy', metrics=['accuracy'])\n",
        "\n",
        "    return model\n",
        "\n",
        "tuner = RandomSearch(\n",
        "    build_model,\n",
        "    objective='val_accuracy',\n",
        "    max_trials=3,  # reduced number of model configurations to test\n",
        "    executions_per_trial=1,\n",
        "    directory='output',\n",
        "    project_name='HistoPathologicCancerDetection'\n",
        ")\n",
        "\n",
        "# Train for fewer epochs during hyperparameter tuning\n",
        "tuner.search(train_gen, epochs=5, validation_data=val_gen)"
      ],
      "metadata": {
        "execution": {
          "iopub.status.busy": "2023-08-13T10:48:16.25623Z",
          "iopub.execute_input": "2023-08-13T10:48:16.256629Z",
          "iopub.status.idle": "2023-08-13T11:12:11.718779Z",
          "shell.execute_reply.started": "2023-08-13T10:48:16.256599Z",
          "shell.execute_reply": "2023-08-13T11:12:11.717469Z"
        },
        "trusted": true,
        "id": "EFfPnS-qupvU"
      },
      "execution_count": null,
      "outputs": []
    },
    {
      "cell_type": "markdown",
      "source": [
        "## <font color='green'>5.2 Transfer Learning</font>"
      ],
      "metadata": {
        "id": "62WlEWleupvU"
      }
    },
    {
      "cell_type": "code",
      "source": [
        "from tensorflow.keras.applications import VGG16\n",
        "\n",
        "# Load the VGG16 model with weights pre-trained on ImageNet\n",
        "base_model = VGG16(weights='imagenet', include_top=False, input_shape=(IMG_WIDTH, IMG_HEIGHT, 3))\n",
        "\n",
        "# Freeze the layers of the base model\n",
        "for layer in base_model.layers:\n",
        "    layer.trainable = False\n",
        "\n",
        "# Create a custom model on top\n",
        "model = Sequential()\n",
        "model.add(base_model)\n",
        "model.add(Flatten())\n",
        "model.add(Dense(512, activation='relu'))\n",
        "model.add(Dropout(0.5))\n",
        "model.add(Dense(1, activation='sigmoid'))\n",
        "\n",
        "model.compile(optimizer=Adam(learning_rate=0.0001), loss='binary_crossentropy', metrics=['accuracy'])"
      ],
      "metadata": {
        "execution": {
          "iopub.status.busy": "2023-08-13T11:12:39.75177Z",
          "iopub.execute_input": "2023-08-13T11:12:39.752208Z",
          "iopub.status.idle": "2023-08-13T11:12:40.876166Z",
          "shell.execute_reply.started": "2023-08-13T11:12:39.75218Z",
          "shell.execute_reply": "2023-08-13T11:12:40.875094Z"
        },
        "trusted": true,
        "id": "NlEkzZcbupvU"
      },
      "execution_count": null,
      "outputs": []
    },
    {
      "cell_type": "markdown",
      "source": [
        "## <font color='green'>5.3 Regularization</font>"
      ],
      "metadata": {
        "id": "akjTxsRYupvU"
      }
    },
    {
      "cell_type": "code",
      "source": [
        "from tensorflow.keras.applications import VGG16\n",
        "from tensorflow.keras.regularizers import l2\n",
        "\n",
        "# Load the VGG16 model with weights pre-trained on ImageNet\n",
        "base_model = VGG16(weights='imagenet', include_top=False, input_shape=(IMG_WIDTH, IMG_HEIGHT, 3))\n",
        "\n",
        "# Freeze the layers of the base model\n",
        "for layer in base_model.layers:\n",
        "    layer.trainable = False\n",
        "\n",
        "model = Sequential()\n",
        "model.add(base_model)\n",
        "\n",
        "# Convolutional layers\n",
        "# Removed pooling layers and adjusted convolutional layers\n",
        "model.add(Conv2D(32, (3, 3), activation='relu', kernel_regularizer=l2(0.01), padding='same'))\n",
        "model.add(Conv2D(64, (3, 3), activation='relu', kernel_regularizer=l2(0.01), padding='same'))\n",
        "model.add(Conv2D(128, (3, 3), activation='relu', kernel_regularizer=l2(0.01), padding='same'))\n",
        "\n",
        "# Fully connected layers\n",
        "model.add(Flatten())\n",
        "model.add(Dense(512, activation='relu', kernel_regularizer=l2(0.01)))\n",
        "model.add(Dropout(0.5))\n",
        "model.add(Dense(1, activation='sigmoid'))  # Binary classification\n",
        "\n",
        "optimizer = Adam(learning_rate=0.0001)\n",
        "model.compile(optimizer=optimizer, loss='binary_crossentropy', metrics=['accuracy'])"
      ],
      "metadata": {
        "execution": {
          "iopub.status.busy": "2023-08-13T11:14:21.808268Z",
          "iopub.execute_input": "2023-08-13T11:14:21.808689Z",
          "iopub.status.idle": "2023-08-13T11:14:22.4319Z",
          "shell.execute_reply.started": "2023-08-13T11:14:21.808656Z",
          "shell.execute_reply": "2023-08-13T11:14:22.430558Z"
        },
        "trusted": true,
        "id": "-0x1L_yPupvU"
      },
      "execution_count": null,
      "outputs": []
    },
    {
      "cell_type": "markdown",
      "source": [
        "# <font color='blue'>6. Interpretation and Communication of Results</font>"
      ],
      "metadata": {
        "id": "WLOei5pFupvU"
      }
    },
    {
      "cell_type": "markdown",
      "source": [
        "**Visualizations were created to depict the training progress, showing how the loss and accuracy evolved over epochs. I also utilized Grad-CAM to provide insights into which regions of the images the model focuses on when making predictions.**"
      ],
      "metadata": {
        "id": "hZCk8RerupvU"
      }
    },
    {
      "cell_type": "markdown",
      "source": [
        "## <font color='green'>6.1 Visualization of Training Progress</font>"
      ],
      "metadata": {
        "id": "Xgu9MyyNupvU"
      }
    },
    {
      "cell_type": "code",
      "source": [
        "# Plotting training and validation loss and accuracy\n",
        "plt.figure(figsize=(12, 4))\n",
        "\n",
        "plt.subplot(1, 2, 1)\n",
        "plt.plot(history.history['loss'], label='Training Loss')\n",
        "plt.plot(history.history['val_loss'], label='Validation Loss')\n",
        "plt.legend()\n",
        "plt.title('Training and Validation Loss')\n",
        "\n",
        "plt.subplot(1, 2, 2)\n",
        "plt.plot(history.history['accuracy'], label='Training Accuracy')\n",
        "plt.plot(history.history['val_accuracy'], label='Validation Accuracy')\n",
        "plt.legend()\n",
        "plt.title('Training and Validation Accuracy')\n",
        "\n",
        "plt.tight_layout()\n",
        "plt.show()"
      ],
      "metadata": {
        "execution": {
          "iopub.status.busy": "2023-08-13T11:40:31.353943Z",
          "iopub.execute_input": "2023-08-13T11:40:31.354367Z",
          "iopub.status.idle": "2023-08-13T11:40:31.963867Z",
          "shell.execute_reply.started": "2023-08-13T11:40:31.354335Z",
          "shell.execute_reply": "2023-08-13T11:40:31.962685Z"
        },
        "trusted": true,
        "id": "JQ8YHrUQupvU"
      },
      "execution_count": null,
      "outputs": []
    },
    {
      "cell_type": "markdown",
      "source": [
        "# <font color='blue'>Conclusion:</font>\n",
        "After rigorous training, evaluation, and optimization, our model achieved an accuracy of **0.7944%**. While the model performs well, there's always room for improvement. Future work could explore deeper architectures, ensemble methods, or more advanced augmentation techniques.\n",
        "\n",
        "# <font color='blue'>References:</font>\n",
        "\n",
        "Histopathologic Cancer Detection Dataset"
      ],
      "metadata": {
        "id": "zZu558LHupvU"
      }
    }
  ]
}